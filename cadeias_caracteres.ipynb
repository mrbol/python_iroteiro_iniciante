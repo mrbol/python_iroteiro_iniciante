{
 "cells": [
  {
   "cell_type": "markdown",
   "metadata": {},
   "source": [
    "## Uma cadeia de caracteres simples\n",
    "No exemplo desta unidade, há um só fato sobre a lua atribuído a uma variável, desta forma:"
   ]
  },
  {
   "cell_type": "code",
   "execution_count": 1,
   "metadata": {},
   "outputs": [
    {
     "name": "stdout",
     "output_type": "stream",
     "text": [
      "The Moon has no atmosphere.\n"
     ]
    }
   ],
   "source": [
    "fact = \"The Moon has no atmosphere.\"\n",
    "print(fact)"
   ]
  },
  {
   "cell_type": "markdown",
   "metadata": {},
   "source": [
    "Sobre como usar aspas\n",
    "Você pode colocar as cadeias de caracteres do Python entre aspas simples, duplas ou triplas. Embora você possa usá-las de maneira intercambiável, é melhor adotar o mesmo tipo de modo consistente em todo o projeto. Por exemplo, a seguinte cadeia de caracteres usa aspas duplas:"
   ]
  },
  {
   "cell_type": "code",
   "execution_count": 2,
   "metadata": {},
   "outputs": [],
   "source": [
    "moon_radius = \"The Moon has a radius of 1,080 miles.\""
   ]
  },
  {
   "cell_type": "markdown",
   "metadata": {},
   "source": [
    "No entanto, quando uma cadeia de caracteres contém palavras, números ou caracteres especiais (uma substring) que também estão entre aspas, você deve usar um estilo diferente. Por exemplo, se uma substring usar aspas duplas, coloque toda a cadeia de caracteres entre aspas simples, conforme mostrado aqui:"
   ]
  },
  {
   "cell_type": "code",
   "execution_count": 3,
   "metadata": {},
   "outputs": [
    {
     "data": {
      "text/plain": [
       "'The \"near side\" is the part of the Moon that faces the Earth.'"
      ]
     },
     "execution_count": 3,
     "metadata": {},
     "output_type": "execute_result"
    }
   ],
   "source": [
    "'The \"near side\" is the part of the Moon that faces the Earth.'"
   ]
  },
  {
   "cell_type": "markdown",
   "metadata": {},
   "source": [
    "Da mesma forma, se houver aspas simples (ou um apóstrofo, como na palavra Lua's no exemplo a seguir) em qualquer lugar dentro da cadeia de caracteres, coloque toda a cadeia de caracteres entre aspas duplas:"
   ]
  },
  {
   "cell_type": "code",
   "execution_count": 4,
   "metadata": {},
   "outputs": [
    {
     "data": {
      "text/plain": [
       "\"We only see about 60% of the Moon's surface.\""
      ]
     },
     "execution_count": 4,
     "metadata": {},
     "output_type": "execute_result"
    }
   ],
   "source": [
    "\"We only see about 60% of the Moon's surface.\""
   ]
  },
  {
   "cell_type": "markdown",
   "metadata": {},
   "source": [
    "Quando o texto tiver uma combinação de aspas simples e duplas, você poderá usar aspas triplas para evitar problemas com o interpretador:"
   ]
  },
  {
   "cell_type": "code",
   "execution_count": 5,
   "metadata": {},
   "outputs": [
    {
     "data": {
      "text/plain": [
       "'We only see about 60% of the Moon\\'s surface, this is known as the \"near side\".'"
      ]
     },
     "execution_count": 5,
     "metadata": {},
     "output_type": "execute_result"
    }
   ],
   "source": [
    "\"\"\"We only see about 60% of the Moon's surface, this is known as the \"near side\".\"\"\""
   ]
  },
  {
   "cell_type": "markdown",
   "metadata": {},
   "source": [
    "Texto com várias linhas\n",
    "Há algumas maneiras diferentes de definir várias linhas de texto como uma variável. As maneiras mais comuns são:\n",
    "\n",
    "Usar um caractere de nova linha (\\n).\n",
    "Usar aspas triplas (\"\"\").\n",
    "Os caracteres de nova linha separam o texto em várias linhas quando você imprime a saída:"
   ]
  },
  {
   "cell_type": "code",
   "execution_count": 6,
   "metadata": {},
   "outputs": [
    {
     "name": "stdout",
     "output_type": "stream",
     "text": [
      "Facts about the Moon:\n",
      " There is no atmosphere.\n",
      " There is no sound.\n"
     ]
    }
   ],
   "source": [
    "multiline = \"Facts about the Moon:\\n There is no atmosphere.\\n There is no sound.\"\n",
    "print(multiline)"
   ]
  },
  {
   "cell_type": "markdown",
   "metadata": {},
   "source": [
    "Você pode obter o mesmo resultado usando aspas triplas:"
   ]
  },
  {
   "cell_type": "code",
   "execution_count": 7,
   "metadata": {},
   "outputs": [
    {
     "name": "stdout",
     "output_type": "stream",
     "text": [
      "Facts about the Moon: There is no atmosphere. There is no sound.\n"
     ]
    }
   ],
   "source": [
    "multiline = \"\"\"Facts about the Moon: There is no atmosphere. There is no sound.\"\"\"\n",
    "print(multiline)"
   ]
  },
  {
   "cell_type": "markdown",
   "metadata": {},
   "source": [
    "Métodos de cadeia de caracteres no Python"
   ]
  },
  {
   "cell_type": "code",
   "execution_count": 8,
   "metadata": {},
   "outputs": [
    {
     "name": "stdout",
     "output_type": "stream",
     "text": [
      "Temperatures And Facts About The Moon\n"
     ]
    }
   ],
   "source": [
    "print(\"temperatures and facts about the moon\".title())"
   ]
  },
  {
   "cell_type": "markdown",
   "metadata": {},
   "source": [
    "Os mesmos comportamento e uso ocorrem em uma variável:"
   ]
  },
  {
   "cell_type": "code",
   "execution_count": 9,
   "metadata": {},
   "outputs": [
    {
     "name": "stdout",
     "output_type": "stream",
     "text": [
      "Temperatures And Facts About The Moon\n"
     ]
    }
   ],
   "source": [
    "heading = \"temperatures and facts about the moon\"\n",
    "heading_upper = heading.title()\n",
    "print(heading_upper)"
   ]
  },
  {
   "cell_type": "markdown",
   "metadata": {},
   "source": [
    "Dividir uma cadeia de caracteres\n",
    "Um método comum de cadeia de caracteres é .split(). Sem argumentos, o método separa a cadeia de caracteres em cada espaço. Isso cria uma lista composta por cada palavra ou número existente separado(a) por espaço:"
   ]
  },
  {
   "cell_type": "code",
   "execution_count": 10,
   "metadata": {},
   "outputs": [
    {
     "name": "stdout",
     "output_type": "stream",
     "text": [
      "['Daylight:', '260', 'F', 'Nighttime:', '-280', 'F']\n"
     ]
    }
   ],
   "source": [
    "temperatures = \"Daylight: 260 F Nighttime: -280 F\"\n",
    "temperatures_list = temperatures .split()\n",
    "print(temperatures_list)"
   ]
  },
  {
   "cell_type": "markdown",
   "metadata": {},
   "source": [
    "Neste exemplo, você está lidando com várias linhas, portanto, o caractere de nova linha (implícito) pode ser usado para dividir a cadeia de caracteres ao final de cada linha, criando linhas individuais:"
   ]
  },
  {
   "cell_type": "code",
   "execution_count": 11,
   "metadata": {},
   "outputs": [
    {
     "name": "stdout",
     "output_type": "stream",
     "text": [
      "['Daylight: 260 F', ' Nighttime: -280 F']\n"
     ]
    }
   ],
   "source": [
    "temperatures = \"Daylight: 260 F\\n Nighttime: -280 F\"\n",
    "temperatures_list = temperatures .split('\\n')\n",
    "print(temperatures_list)"
   ]
  },
  {
   "cell_type": "markdown",
   "metadata": {},
   "source": [
    "Pesquisar uma cadeia de caracteres\n",
    "Alguns métodos de cadeia de caracteres podem procurar conteúdos antes do processamento, sem usar um loop. Vamos supor que você tem duas frases que discutem as temperaturas em diversos planetas e luas. No entanto, você está interessado apenas em temperaturas relacionadas à nossa lua. Ou seja, se as frases não estão falando sobre a Lua da Terra, elas não devem ser processadas para extrair informações.\n",
    "\n",
    "A maneira mais simples de descobrir se uma determinada palavra, caractere ou grupo de caracteres existe em uma cadeia de caracteres é usar o operador in:"
   ]
  },
  {
   "cell_type": "code",
   "execution_count": 12,
   "metadata": {},
   "outputs": [
    {
     "name": "stdout",
     "output_type": "stream",
     "text": [
      "False\n"
     ]
    }
   ],
   "source": [
    "print(\"Moon\" in \"This text will describe facts and challenges with space travel\")"
   ]
  },
  {
   "cell_type": "code",
   "execution_count": 13,
   "metadata": {},
   "outputs": [
    {
     "name": "stdout",
     "output_type": "stream",
     "text": [
      "True\n"
     ]
    }
   ],
   "source": [
    "print(\"Moon\" in \"This text will describe facts about the Moon\")"
   ]
  },
  {
   "cell_type": "markdown",
   "metadata": {},
   "source": [
    "Uma abordagem para localizar a posição de uma palavra específica em uma cadeia de caracteres é usar o método .find():"
   ]
  },
  {
   "cell_type": "code",
   "execution_count": 14,
   "metadata": {},
   "outputs": [
    {
     "name": "stdout",
     "output_type": "stream",
     "text": [
      "-1\n"
     ]
    }
   ],
   "source": [
    "temperatures = \"\"\"Saturn has a daytime temperature of -170 degrees Celsius, while Mars has -28 Celsius.\"\"\"\n",
    "print(temperatures.find(\"Moon\"))"
   ]
  },
  {
   "cell_type": "markdown",
   "metadata": {},
   "source": [
    "O método .find() retorna um -1 quando a palavra não é encontrada ou retorna o índice (o número que representa o local na cadeia de caracteres). É assim que ele se comportaria se você estivesse pesquisando a palavra Marte:"
   ]
  },
  {
   "cell_type": "code",
   "execution_count": 15,
   "metadata": {},
   "outputs": [
    {
     "name": "stdout",
     "output_type": "stream",
     "text": [
      "64\n"
     ]
    }
   ],
   "source": [
    "temperatures = \"\"\"Saturn has a daytime temperature of -170 degrees Celsius, while Mars has -28 Celsius.\"\"\"\n",
    "print(temperatures.find(\"Mars\"))"
   ]
  },
  {
   "cell_type": "markdown",
   "metadata": {},
   "source": [
    "64 é a posição em que \"Mars\" aparece na cadeia de caracteres.\n",
    "\n",
    "Outra maneira de pesquisar conteúdo é usar o método .count(), que retorna o número total de ocorrências de uma determinada palavra em uma cadeia de caracteres:"
   ]
  },
  {
   "cell_type": "code",
   "execution_count": 16,
   "metadata": {},
   "outputs": [
    {
     "name": "stdout",
     "output_type": "stream",
     "text": [
      "1\n",
      "0\n"
     ]
    }
   ],
   "source": [
    "temperatures = \"\"\"Saturn has a daytime temperature of -170 degrees Celsius, while Mars has -28 Celsius.\"\"\"\n",
    "print(temperatures.count(\"Mars\"))\n",
    "print(temperatures.count(\"Moon\"))"
   ]
  },
  {
   "cell_type": "markdown",
   "metadata": {},
   "source": [
    "As cadeias de caracteres em Python diferenciam letras minúsculas de minúsculas, o que significa que Lua e lua são consideradas palavras distintas. Para fazer uma comparação sem diferenciar maiúsculas de minúsculas, você pode converter uma das cadeias de caracteres em letras minúsculas usando o método .lower():"
   ]
  },
  {
   "cell_type": "code",
   "execution_count": 17,
   "metadata": {},
   "outputs": [
    {
     "name": "stdout",
     "output_type": "stream",
     "text": [
      "the moon and the earth\n"
     ]
    }
   ],
   "source": [
    "print(\"The Moon And The Earth\".lower())"
   ]
  },
  {
   "cell_type": "markdown",
   "metadata": {},
   "source": [
    "Semelhante ao método .lower(), as cadeias de caracteres têm um método .upper() que faz o oposto, convertendo cada caractere em letras maiúsculas:"
   ]
  },
  {
   "cell_type": "code",
   "execution_count": 18,
   "metadata": {},
   "outputs": [
    {
     "name": "stdout",
     "output_type": "stream",
     "text": [
      "THE MOON AND THE EARTH\n"
     ]
    }
   ],
   "source": [
    "print(\"The Moon And The Earth\".upper())"
   ]
  },
  {
   "cell_type": "markdown",
   "metadata": {},
   "source": [
    "Dica\n",
    "\n",
    "Quando você está pesquisando e verificando conteúdos, a abordagem mais adequada é converter a cadeia de caracteres para minúsculas a fim de evitar que isso atrapalhe nas correspondências encontradas. Por exemplo, se você estiver contando o número de vezes que a palavra o aparece, o método não contará as ocorrências de O, embora ambos correspondam à mesma palavra. Você pode usar o método .lower() para alterar todos os caracteres para minúsculos."
   ]
  },
  {
   "cell_type": "markdown",
   "metadata": {},
   "source": [
    "Verificar conteúdo\n",
    "Há ocasiões em que você terá que processar textos para extrair informações apresentadas de modo irregular. Por exemplo, a seguinte cadeia de caracteres é mais simples de processar do que um parágrafo não estruturado:"
   ]
  },
  {
   "cell_type": "code",
   "execution_count": 19,
   "metadata": {},
   "outputs": [],
   "source": [
    "temperatures = \"Mars Average Temperature: -60 C\""
   ]
  },
  {
   "cell_type": "markdown",
   "metadata": {},
   "source": [
    "Para extrair a temperatura média em Marte, você pode fazer bem com os seguintes métodos:"
   ]
  },
  {
   "cell_type": "code",
   "execution_count": 20,
   "metadata": {},
   "outputs": [
    {
     "name": "stdout",
     "output_type": "stream",
     "text": [
      "['Mars Average Temperature', ' -60 C']\n",
      " -60 C\n"
     ]
    }
   ],
   "source": [
    "temperatures = \"Mars Average Temperature: -60 C\"\n",
    "parts = temperatures.split(':')\n",
    "print(parts)\n",
    "print(parts[-1])"
   ]
  },
  {
   "cell_type": "markdown",
   "metadata": {},
   "source": [
    "O código anterior confia que tudo o que vem após os dois-pontos (:) corresponde a dados de temperatura. A cadeia de caracteres é dividida em :, o que produz uma lista de dois itens. Usar [-1] na lista retorna o último item, que é a temperatura neste exemplo.\n",
    "\n",
    "Se o texto for irregular, você não poderá usar os mesmos métodos de divisão para obter o valor. Você deve fazer um loop sobre os itens e verificar se os valores são de um determinado tipo. O Python tem métodos que ajudam a verificar o tipo de cadeia de caracteres:"
   ]
  },
  {
   "cell_type": "code",
   "execution_count": 21,
   "metadata": {},
   "outputs": [
    {
     "name": "stdout",
     "output_type": "stream",
     "text": [
      "30\n"
     ]
    }
   ],
   "source": [
    "mars_temperature = \"The highest temperature on Mars is about 30 C\"\n",
    "for item in mars_temperature.split():\n",
    "    if item.isnumeric():\n",
    "        print(item)"
   ]
  },
  {
   "cell_type": "markdown",
   "metadata": {},
   "source": [
    "Como o método .isnumeric(), .isdecimal() pode verificar se há cadeias de caracteres que se parecem com decimais.\n",
    "\n",
    " Importante\n",
    "\n",
    "Pode ser surpreendente descobrir que \"-70\".isnumeric() retornaria False. Isso ocorre porque todos os caracteres da cadeia de caracteres precisariam ser numéricos e o traço (-) não é. Se você precisar verificar números negativos em uma cadeia de caracteres, o método .isnumeric() não funcionará."
   ]
  },
  {
   "cell_type": "markdown",
   "metadata": {},
   "source": [
    "Há validações adicionais que você pode aplicar nas cadeias de caracteres para checar valores. Para números negativos, o traço aparece como um prefixo do número, podendo ser detectado com o método .startswith():"
   ]
  },
  {
   "cell_type": "code",
   "execution_count": 22,
   "metadata": {},
   "outputs": [
    {
     "name": "stdout",
     "output_type": "stream",
     "text": [
      "True\n"
     ]
    }
   ],
   "source": [
    "print(\"-60\".startswith('-'))"
   ]
  },
  {
   "cell_type": "markdown",
   "metadata": {},
   "source": [
    "Da mesma forma, o método .endswith() ajuda a verificar o último caractere de uma cadeia de caracteres:"
   ]
  },
  {
   "cell_type": "code",
   "execution_count": 23,
   "metadata": {},
   "outputs": [
    {
     "name": "stdout",
     "output_type": "stream",
     "text": [
      "This temperature is in Celsius\n"
     ]
    }
   ],
   "source": [
    "if \"30 C\".endswith(\"C\"):\n",
    "    print(\"This temperature is in Celsius\")"
   ]
  },
  {
   "cell_type": "markdown",
   "metadata": {},
   "source": [
    "## Texto de transformação"
   ]
  },
  {
   "cell_type": "markdown",
   "metadata": {},
   "source": [
    "Há outros métodos que ajudam em situações em que o texto precisa ser transformado em outra coisa. Até agora, você viu cadeias de caracteres que podem usar C para Celsius e F para Fahrenheit. Você pode usar o método .replace() para encontrar e substituir ocorrências de um caractere ou grupo de caracteres:"
   ]
  },
  {
   "cell_type": "code",
   "execution_count": 24,
   "metadata": {},
   "outputs": [
    {
     "name": "stdout",
     "output_type": "stream",
     "text": [
      "Saturn has a daytime temperature of -170 degrees C, while Mars has -28 C.\n"
     ]
    }
   ],
   "source": [
    "print(\"Saturn has a daytime temperature of -170 degrees Celsius, while Mars has -28 Celsius.\".replace(\"Celsius\", \"C\"))"
   ]
  },
  {
   "cell_type": "markdown",
   "metadata": {},
   "source": [
    "Conforme mencionado anteriormente, .lower() é uma excelente maneira de normalizar o texto para fazer uma pesquisa que não faça distinção entre maiúsculas e minúsculas. Vamos verificar rapidamente se algum texto discute temperaturas:"
   ]
  },
  {
   "cell_type": "code",
   "execution_count": 25,
   "metadata": {},
   "outputs": [
    {
     "name": "stdout",
     "output_type": "stream",
     "text": [
      "False\n"
     ]
    }
   ],
   "source": [
    "text = \"Temperatures on the Moon can vary wildly.\"\n",
    "print(\"temperatures\" in text)"
   ]
  },
  {
   "cell_type": "markdown",
   "metadata": {},
   "source": [
    "Talvez você não precise fazer a verificação que não faz distinção entre maiúsculas e minúsculas o tempo todo, mas converter todas as letras para minúsculas é uma boa estratégia quando o texto mistura letras maiúsculas e minúsculas.\n",
    "\n",
    "Depois de dividir o texto e realizar as transformações, talvez seja necessário reunir todas as partes novamente. Assim como o método .split() pode separar caracteres, o método .join() pode uni-los novamente.\n",
    "\n",
    "O método .join() requer um objeto iterável (como uma lista do Python) como um argumento, portanto, seu uso é diferente de outros métodos de cadeia de caracteres:"
   ]
  },
  {
   "cell_type": "code",
   "execution_count": 26,
   "metadata": {},
   "outputs": [
    {
     "name": "stdout",
     "output_type": "stream",
     "text": [
      "The Moon is drifting away from the Earth. On average, the Moon is moving about 4cm every year.\n"
     ]
    }
   ],
   "source": [
    "moon_facts = [\"The Moon is drifting away from the Earth.\", \"On average, the Moon is moving about 4cm every year.\"]\n",
    "print(' '.join(moon_facts))"
   ]
  },
  {
   "cell_type": "markdown",
   "metadata": {},
   "source": [
    "## Formato de cadeia de caracteres no Python"
   ]
  },
  {
   "cell_type": "markdown",
   "metadata": {},
   "source": [
    "Além de transformar texto e executar operações básicas, como correspondência e pesquisa, é essencial formatar o texto quando você estiver apresentando informações. A maneira mais simples de apresentar informações de texto com o Python é usar a função print(). Você verá que é essencial colocar informações em variáveis e outras estruturas de dados em cadeias de caracteres que podem ser usadas por print(). Nesta unidade, você aprenderá várias maneiras válidas de incluir valores de variáveis em texto usando o Python."
   ]
  },
  {
   "cell_type": "markdown",
   "metadata": {},
   "source": [
    "Formatação do sinal de porcentagem (%)\n",
    "O espaço reservado para a variável na cadeia de caracteres é %s. Após a cadeia de caracteres, use outro caractere % seguido pelo nome da variável. O exemplo a seguir mostra como formatar usando o caractere %:"
   ]
  },
  {
   "cell_type": "code",
   "execution_count": 27,
   "metadata": {},
   "outputs": [
    {
     "name": "stdout",
     "output_type": "stream",
     "text": [
      "On the Moon, you would weigh about 1/6 of your weight on Earth.\n"
     ]
    }
   ],
   "source": [
    "mass_percentage = \"1/6\"\n",
    "print(\"On the Moon, you would weigh about %s of your weight on Earth.\" % mass_percentage)"
   ]
  },
  {
   "cell_type": "markdown",
   "metadata": {},
   "source": [
    "O uso de vários valores altera a sintaxe, pois requer parênteses ao redor das variáveis que são passadas:"
   ]
  },
  {
   "cell_type": "code",
   "execution_count": 28,
   "metadata": {},
   "outputs": [
    {
     "name": "stdout",
     "output_type": "stream",
     "text": [
      "Both sides of the Moon get the same amount of sunlight, but only one side is seen from Earth because the Moon rotates around its own axis when it orbits Earth.\n"
     ]
    }
   ],
   "source": [
    "print(\"\"\"Both sides of the %s get the same amount of sunlight, but only one side is seen from %s because the %s rotates around its own axis when it orbits %s.\"\"\" % (\"Moon\", \"Earth\", \"Moon\", \"Earth\"))"
   ]
  },
  {
   "cell_type": "markdown",
   "metadata": {},
   "source": [
    "Dica\n",
    "\n",
    "Embora esse método ainda seja uma forma válida de formatar cadeias de caracteres, ele pode levar a erros e reduzir a clareza do código quando você estiver lidando com diversas variáveis. Qualquer uma das outras duas opções de formatação descritas nesta unidade seria mais adequada para essa finalidade."
   ]
  },
  {
   "cell_type": "markdown",
   "metadata": {},
   "source": [
    "O método format()\n",
    "O método .format() usa chaves ({}) como espaços reservados em uma cadeia de caracteres e usa a atribuição de variável para substituir o texto."
   ]
  },
  {
   "cell_type": "code",
   "execution_count": 29,
   "metadata": {},
   "outputs": [
    {
     "name": "stdout",
     "output_type": "stream",
     "text": [
      "On the Moon, you would weigh about 1/6 of your weight on Earth.\n"
     ]
    }
   ],
   "source": [
    "mass_percentage = \"1/6\"\n",
    "print(\"On the Moon, you would weigh about {} of your weight on Earth.\".format(mass_percentage))"
   ]
  },
  {
   "cell_type": "markdown",
   "metadata": {},
   "source": [
    "Você não precisa atribuir variáveis repetidas diversas vezes, tornando-as menos detalhadas porque menos variáveis precisam ser atribuídas:"
   ]
  },
  {
   "cell_type": "code",
   "execution_count": 30,
   "metadata": {},
   "outputs": [
    {
     "name": "stdout",
     "output_type": "stream",
     "text": [
      "You are lighter on the Moon, because on the Moon you would weigh about 1/6 of your weight on Earth.\n"
     ]
    }
   ],
   "source": [
    "mass_percentage = \"1/6\"\n",
    "print(\"\"\"You are lighter on the {0}, because on the {0} you would weigh about {1} of your weight on Earth.\"\"\".format(\"Moon\", mass_percentage))"
   ]
  },
  {
   "cell_type": "markdown",
   "metadata": {},
   "source": [
    "m vez de chaves vazias, a substituição deve usar números. O {0} significa usar o primeiro argumento (índice zero) para .format(), que, nesse caso, é Moon. Para repetição simples {0} funciona bem, mas reduz a legibilidade. Para melhorar a legibilidade, use argumentos de palavra-chave em .format() e faça referência aos mesmos argumentos entre chaves:"
   ]
  },
  {
   "cell_type": "code",
   "execution_count": 31,
   "metadata": {},
   "outputs": [
    {
     "name": "stdout",
     "output_type": "stream",
     "text": [
      "You are lighter on the Moon, because on the Moon you would weigh about 1/6 of your weight on Earth.\n"
     ]
    }
   ],
   "source": [
    "mass_percentage = \"1/6\"\n",
    "print(\"\"\"You are lighter on the {moon}, because on the {moon} you would weigh about {mass} of your weight on Earth.\"\"\".format(moon=\"Moon\", mass=mass_percentage))"
   ]
  },
  {
   "cell_type": "markdown",
   "metadata": {},
   "source": [
    "esde a versão 3.6 do Python, é possível usar as cadeias de caracteres f. Essas cadeias de caracteres se parecem com modelos e usam os nomes de variáveis do seu código. O uso de cadeias de caracteres f no exemplo anterior ficaria assim:"
   ]
  },
  {
   "cell_type": "code",
   "execution_count": 32,
   "metadata": {},
   "outputs": [
    {
     "name": "stdout",
     "output_type": "stream",
     "text": [
      "On the Moon, you would weigh about 1/6 of your weight on Earth.\n"
     ]
    }
   ],
   "source": [
    "print(f\"On the Moon, you would weigh about {mass_percentage} of your weight on Earth.\")"
   ]
  },
  {
   "cell_type": "markdown",
   "metadata": {},
   "source": [
    "As variáveis são passadas entre chaves e a cadeia de caracteres deve usar o prefixo f.\n",
    "\n",
    "Além das cadeias de caracteres f serem menos detalhadas do que qualquer outra opção de formatação, é possível usar expressões dentro das chaves. Essas expressões podem ser funções ou operações diretas. Por exemplo, se você quiser representar o valor 1/6 como um percentual com uma casa decimal, poderá usar a função round() diretamente:"
   ]
  },
  {
   "cell_type": "code",
   "execution_count": 34,
   "metadata": {},
   "outputs": [
    {
     "name": "stdout",
     "output_type": "stream",
     "text": [
      "16.7\n"
     ]
    }
   ],
   "source": [
    "print(round(100/6, 1))"
   ]
  },
  {
   "cell_type": "markdown",
   "metadata": {},
   "source": [
    "Com cadeias de caracteres f, você não precisa atribuir um valor a uma variável com antecedência:"
   ]
  },
  {
   "cell_type": "code",
   "execution_count": 35,
   "metadata": {},
   "outputs": [
    {
     "name": "stdout",
     "output_type": "stream",
     "text": [
      "On the Moon, you would weigh about 16.7% of your weight on Earth.\n"
     ]
    }
   ],
   "source": [
    "print(f\"On the Moon, you would weigh about {round(100/6, 1)}% of your weight on Earth.\")"
   ]
  }
 ],
 "metadata": {
  "kernelspec": {
   "display_name": "Python 3",
   "language": "python",
   "name": "python3"
  },
  "language_info": {
   "codemirror_mode": {
    "name": "ipython",
    "version": 3
   },
   "file_extension": ".py",
   "mimetype": "text/x-python",
   "name": "python",
   "nbconvert_exporter": "python",
   "pygments_lexer": "ipython3",
   "version": "3.8.10"
  },
  "orig_nbformat": 4
 },
 "nbformat": 4,
 "nbformat_minor": 2
}
